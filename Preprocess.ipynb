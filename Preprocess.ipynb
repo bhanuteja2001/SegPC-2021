{
  "nbformat": 4,
  "nbformat_minor": 0,
  "metadata": {
    "colab": {
      "name": "Preprocess.ipynb",
      "provenance": [],
      "authorship_tag": "ABX9TyNzBAPsmU9O5HhiW8RMCYCD",
      "include_colab_link": true
    },
    "kernelspec": {
      "name": "python3",
      "display_name": "Python 3"
    },
    "accelerator": "GPU"
  },
  "cells": [
    {
      "cell_type": "markdown",
      "metadata": {
        "id": "view-in-github",
        "colab_type": "text"
      },
      "source": [
        "<a href=\"https://colab.research.google.com/github/bhanuteja2001/SegPC-2021/blob/main/Preprocess.ipynb\" target=\"_parent\"><img src=\"https://colab.research.google.com/assets/colab-badge.svg\" alt=\"Open In Colab\"/></a>"
      ]
    },
    {
      "cell_type": "code",
      "metadata": {
        "colab": {
          "base_uri": "https://localhost:8080/"
        },
        "id": "Ta0L9ODvAN1M",
        "outputId": "de9b3032-c228-4d1e-98fc-645e1f117e5a"
      },
      "source": [
        "from google.colab import drive\r\n",
        "drive.mount('/content/drive')"
      ],
      "execution_count": 1,
      "outputs": [
        {
          "output_type": "stream",
          "text": [
            "Mounted at /content/drive\n"
          ],
          "name": "stdout"
        }
      ]
    },
    {
      "cell_type": "code",
      "metadata": {
        "colab": {
          "base_uri": "https://localhost:8080/"
        },
        "id": "ZP4RYLlZednv",
        "outputId": "e20dd958-1e84-493a-ac3a-d73975458b9c"
      },
      "source": [
        "%cd /content/drive/MyDrive/SegPC-2021"
      ],
      "execution_count": 2,
      "outputs": [
        {
          "output_type": "stream",
          "text": [
            "/content/drive/MyDrive/SegPC-2021\n"
          ],
          "name": "stdout"
        }
      ]
    },
    {
      "cell_type": "code",
      "metadata": {
        "id": "B_4-Qn_mcUej"
      },
      "source": [
        "!unzip \"/content/drive/MyDrive/SegPC-2021/SegPC_2021_Train_data.zip\""
      ],
      "execution_count": null,
      "outputs": []
    },
    {
      "cell_type": "code",
      "metadata": {
        "id": "QklCjYC6AoNM"
      },
      "source": [
        "import os\r\n",
        "import os\r\n",
        "import random\r\n",
        "import re\r\n",
        "from PIL import Image\r\n",
        "\r\n",
        "DATA_PATH = '/content/drive/MyDrive/SegPC-2021/train/'\r\n",
        "FRAME_PATH = \"/content/drive/MyDrive/SegPC-2021/train/x/\"\r\n",
        "MASK_PATH = \"/content/drive/MyDrive/SegPC-2021/train/y/\""
      ],
      "execution_count": 7,
      "outputs": []
    },
    {
      "cell_type": "code",
      "metadata": {
        "colab": {
          "base_uri": "https://localhost:8080/"
        },
        "id": "HDoi9Iv9dOu2",
        "outputId": "242fb0b0-3e85-41c9-af93-2bec625a8c22"
      },
      "source": [
        "os.listdir(\"/content/drive/MyDrive\")"
      ],
      "execution_count": null,
      "outputs": [
        {
          "output_type": "execute_result",
          "data": {
            "text/plain": [
              "['covid_image_data', 'Colab Notebooks', 'SegPC-2021']"
            ]
          },
          "metadata": {
            "tags": []
          },
          "execution_count": 29
        }
      ]
    },
    {
      "cell_type": "code",
      "metadata": {
        "colab": {
          "base_uri": "https://localhost:8080/"
        },
        "id": "VC6-Dog2eqKW",
        "outputId": "aeec2261-ad99-4df6-e56d-d8ccbae7a949"
      },
      "source": [
        "len(os.listdir(\"/content/drive/MyDrive/SegPC-2021/train/x\"))"
      ],
      "execution_count": null,
      "outputs": [
        {
          "output_type": "execute_result",
          "data": {
            "text/plain": [
              "297"
            ]
          },
          "metadata": {
            "tags": []
          },
          "execution_count": 31
        }
      ]
    },
    {
      "cell_type": "code",
      "metadata": {
        "id": "hZYH1k7nefLG"
      },
      "source": [
        "all_frames = os.listdir(FRAME_PATH)\n",
        "all_masks = os.listdir(MASK_PATH)"
      ],
      "execution_count": 8,
      "outputs": []
    },
    {
      "cell_type": "code",
      "metadata": {
        "id": "bZf2Fq91ehWo"
      },
      "source": [
        "def fin(masks,frame):\n",
        "  em = []\n",
        "  for f in masks:\n",
        "    f_1 = f[0:3]+\".bmp\"\n",
        "    if f_1 in frame:\n",
        "      em.append(f)\n",
        "  return em"
      ],
      "execution_count": 14,
      "outputs": []
    },
    {
      "cell_type": "code",
      "metadata": {
        "id": "yw99luEvfFU4"
      },
      "source": [
        "# Create folders to hold images and masks\r\n",
        "\r\n",
        "folders = ['train_frames', 'train_masks', 'val_frames', 'val_masks', 'test_frames', 'test_masks']\r\n",
        "\r\n",
        "\r\n",
        "for folder in folders:\r\n",
        "  os.makedirs(DATA_PATH + folder)\r\n",
        "  \r\n",
        "\r\n",
        "\r\n",
        "# Get all frames and masks, sort them, shuffle them to generate data sets.\r\n",
        "\r\n",
        "all_frames = os.listdir(FRAME_PATH)\r\n",
        "all_masks = os.listdir(MASK_PATH)\r\n",
        "\r\n",
        "\r\n",
        "all_frames.sort(key=lambda var:[int(x) if x.isdigit() else x \r\n",
        "                                for x in re.findall(r'[0-9]+', var)])\r\n",
        "all_masks.sort(key=lambda var:[int(x) if x.isdigit() else x \r\n",
        "                               for x in re.findall(r'[0-9]+', var)])\r\n",
        "\r\n",
        "\r\n",
        "random.seed(230)\r\n",
        "random.shuffle(all_frames)\r\n",
        "\r\n",
        "\r\n",
        "# Generate train, val, and test sets for frames\r\n",
        "\r\n",
        "train_split = int(0.7*len(all_frames))\r\n",
        "val_split = int(0.9 * len(all_frames))\r\n",
        "\r\n",
        "train_frames = all_frames[:train_split]\r\n",
        "val_frames = all_frames[train_split:val_split]\r\n",
        "test_frames = all_frames[val_split:]\r\n",
        "\r\n",
        "\r\n",
        "# Generate corresponding mask lists for masks\r\n",
        "\r\n",
        "train_masks = fin(all_masks,train_frames)\r\n",
        "val_masks = fin(all_masks,val_frames)\r\n",
        "test_masks = fin(all_masks,test_frames)"
      ],
      "execution_count": 51,
      "outputs": []
    },
    {
      "cell_type": "code",
      "metadata": {
        "id": "g3p5ECBsgKe-"
      },
      "source": [
        "frame_folders = [(train_frames, 'train_frames'), (val_frames, 'val_frames'), \n",
        "                 (test_frames, 'test_frames')]\n",
        "\n",
        "mask_folders = [(train_masks, 'train_masks'), (val_masks, 'val_masks'), \n",
        "                (test_masks, 'test_masks')]"
      ],
      "execution_count": 52,
      "outputs": []
    },
    {
      "cell_type": "code",
      "metadata": {
        "colab": {
          "base_uri": "https://localhost:8080/",
          "height": 35
        },
        "id": "y2W0B2gtgLvO",
        "outputId": "b9dda6ec-9597-4d04-cfbb-22b976cd9985"
      },
      "source": [
        "name[1][0:4]"
      ],
      "execution_count": 31,
      "outputs": [
        {
          "output_type": "execute_result",
          "data": {
            "application/vnd.google.colaboratory.intrinsic+json": {
              "type": "string"
            },
            "text/plain": [
              "'test'"
            ]
          },
          "metadata": {
            "tags": []
          },
          "execution_count": 31
        }
      ]
    },
    {
      "cell_type": "code",
      "metadata": {
        "id": "PW_PlV8BwE60"
      },
      "source": [
        "#Add train, val, test frames and masks to relevant folders\n",
        "\n",
        "\n",
        "def add_frames(dir_name, image):\n",
        "  \n",
        "  img = Image.open(FRAME_PATH+image)\n",
        "  img.save(DATA_PATH+'/{}'.format(dir_name)+'/'+image)\n",
        "  \n",
        "  \n",
        "  \n",
        "def add_masks(dir_name, image):\n",
        "  \n",
        "  img = Image.open(MASK_PATH+image)\n",
        "  img.save(DATA_PATH+'/{}'.format(dir_name)+'/'+image)\n",
        "\n",
        "\n",
        "\n",
        "# Add frames\n",
        "\n",
        "for folder in frame_folders:\n",
        "  \n",
        "  array = folder[0]\n",
        "  name = [folder[1]] * len(array)\n",
        "\n",
        "  list(map(add_frames, name, array))\n",
        "         \n",
        "    \n",
        "# Add masks\n",
        "\n",
        "for folder in mask_folders:\n",
        "  \n",
        "  array = folder[0]\n",
        "  name = [folder[1]] * len(array)\n",
        "  \n",
        "  list(map(add_masks, name, array))"
      ],
      "execution_count": 53,
      "outputs": []
    },
    {
      "cell_type": "code",
      "metadata": {
        "id": "YWEJdRTBs83Y"
      },
      "source": [
        "from keras.preprocessing.image import ImageDataGenerator\r\n",
        "\r\n",
        "train_datagen = ImageDataGenerator(\r\n",
        "        rescale=1./255,\r\n",
        "        channel_shift_range=150.0,\r\n",
        "        vertical_flip=True,\r\n",
        "        horizontal_flip=True)\r\n",
        "        \r\n",
        "val_datagen = ImageDataGenerator(rescale=1./255)"
      ],
      "execution_count": 54,
      "outputs": []
    },
    {
      "cell_type": "code",
      "metadata": {
        "colab": {
          "base_uri": "https://localhost:8080/"
        },
        "id": "DCAOzhOytQAV",
        "outputId": "c52a89cc-ad8e-42e1-cce1-fc9b3fbeff2e"
      },
      "source": [
        "train_image_generator = train_datagen.flow_from_directory(\r\n",
        "    directory='/content/drive/MyDrive/SegPC-2021/train/train_frames/',\r\n",
        "    batch_size = 16)\r\n",
        "\r\n",
        "train_mask_generator = train_datagen.flow_from_directory(\r\n",
        "    directory='/content/drive/MyDrive/SegPC-2021/train/train_masks/',\r\n",
        "    batch_size = 16)\r\n",
        "\r\n",
        "val_image_generator = val_datagen.flow_from_directory(\r\n",
        "    directory='/content/drive/MyDrive/SegPC-2021/train/val_frames/',\r\n",
        "    batch_size = 16)\r\n",
        "\r\n",
        "\r\n",
        "val_mask_generator = val_datagen.flow_from_directory(\r\n",
        "    directory='/content/drive/MyDrive/SegPC-2021/train/val_masks/',\r\n",
        "    batch_size = 16)\r\n",
        "\r\n",
        "\r\n",
        "\r\n",
        "train_generator = zip(train_image_generator, train_mask_generator)\r\n",
        "val_generator = zip(val_image_generator, val_mask_generator)"
      ],
      "execution_count": 55,
      "outputs": [
        {
          "output_type": "stream",
          "text": [
            "Found 208 images belonging to 1 classes.\n",
            "Found 118 images belonging to 1 classes.\n",
            "Found 60 images belonging to 1 classes.\n",
            "Found 68 images belonging to 1 classes.\n"
          ],
          "name": "stdout"
        }
      ]
    },
    {
      "cell_type": "code",
      "metadata": {
        "id": "rNqtbyMU4M35",
        "colab": {
          "base_uri": "https://localhost:8080/"
        },
        "outputId": "a532097e-9b0e-4986-fdb0-e6ce6e75434e"
      },
      "source": [
        "import numpy as np \n",
        "import os\n",
        "import skimage.io as io\n",
        "import skimage.transform as trans\n",
        "import numpy as np\n",
        "from keras.models import *\n",
        "from keras.layers import *\n",
        "from keras.optimizers import *\n",
        "from keras.callbacks import ModelCheckpoint, LearningRateScheduler\n",
        "from keras import backend as keras\n",
        "\n",
        "\n",
        "def unet(pretrained_weights = None,input_size = (256,256,1)):\n",
        "    inputs = Input(input_size)\n",
        "    conv1 = Conv2D(64, 3, activation = 'relu', padding = 'same', kernel_initializer = 'he_normal')(inputs)\n",
        "    conv1 = Conv2D(64, 3, activation = 'relu', padding = 'same', kernel_initializer = 'he_normal')(conv1)\n",
        "    pool1 = MaxPooling2D(pool_size=(2, 2))(conv1)\n",
        "    conv2 = Conv2D(128, 3, activation = 'relu', padding = 'same', kernel_initializer = 'he_normal')(pool1)\n",
        "    conv2 = Conv2D(128, 3, activation = 'relu', padding = 'same', kernel_initializer = 'he_normal')(conv2)\n",
        "    pool2 = MaxPooling2D(pool_size=(2, 2))(conv2)\n",
        "    conv3 = Conv2D(256, 3, activation = 'relu', padding = 'same', kernel_initializer = 'he_normal')(pool2)\n",
        "    conv3 = Conv2D(256, 3, activation = 'relu', padding = 'same', kernel_initializer = 'he_normal')(conv3)\n",
        "    pool3 = MaxPooling2D(pool_size=(2, 2))(conv3)\n",
        "    conv4 = Conv2D(512, 3, activation = 'relu', padding = 'same', kernel_initializer = 'he_normal')(pool3)\n",
        "    conv4 = Conv2D(512, 3, activation = 'relu', padding = 'same', kernel_initializer = 'he_normal')(conv4)\n",
        "    drop4 = Dropout(0.5)(conv4)\n",
        "    pool4 = MaxPooling2D(pool_size=(2, 2))(drop4)\n",
        "\n",
        "    conv5 = Conv2D(1024, 3, activation = 'relu', padding = 'same', kernel_initializer = 'he_normal')(pool4)\n",
        "    conv5 = Conv2D(1024, 3, activation = 'relu', padding = 'same', kernel_initializer = 'he_normal')(conv5)\n",
        "    drop5 = Dropout(0.5)(conv5)\n",
        "\n",
        "    up6 = Conv2D(512, 2, activation = 'relu', padding = 'same', kernel_initializer = 'he_normal')(UpSampling2D(size = (2,2))(drop5))\n",
        "    merge6 = concatenate([drop4,up6], axis = 3)\n",
        "    conv6 = Conv2D(512, 3, activation = 'relu', padding = 'same', kernel_initializer = 'he_normal')(merge6)\n",
        "    conv6 = Conv2D(512, 3, activation = 'relu', padding = 'same', kernel_initializer = 'he_normal')(conv6)\n",
        "\n",
        "    up7 = Conv2D(256, 2, activation = 'relu', padding = 'same', kernel_initializer = 'he_normal')(UpSampling2D(size = (2,2))(conv6))\n",
        "    merge7 = concatenate([conv3,up7], axis = 3)\n",
        "    conv7 = Conv2D(256, 3, activation = 'relu', padding = 'same', kernel_initializer = 'he_normal')(merge7)\n",
        "    conv7 = Conv2D(256, 3, activation = 'relu', padding = 'same', kernel_initializer = 'he_normal')(conv7)\n",
        "\n",
        "    up8 = Conv2D(128, 2, activation = 'relu', padding = 'same', kernel_initializer = 'he_normal')(UpSampling2D(size = (2,2))(conv7))\n",
        "    merge8 = concatenate([conv2,up8], axis = 3)\n",
        "    conv8 = Conv2D(128, 3, activation = 'relu', padding = 'same', kernel_initializer = 'he_normal')(merge8)\n",
        "    conv8 = Conv2D(128, 3, activation = 'relu', padding = 'same', kernel_initializer = 'he_normal')(conv8)\n",
        "\n",
        "    up9 = Conv2D(64, 2, activation = 'relu', padding = 'same', kernel_initializer = 'he_normal')(UpSampling2D(size = (2,2))(conv8))\n",
        "    merge9 = concatenate([conv1,up9], axis = 3)\n",
        "    conv9 = Conv2D(64, 3, activation = 'relu', padding = 'same', kernel_initializer = 'he_normal')(merge9)\n",
        "    conv9 = Conv2D(64, 3, activation = 'relu', padding = 'same', kernel_initializer = 'he_normal')(conv9)\n",
        "    conv9 = Conv2D(2, 3, activation = 'relu', padding = 'same', kernel_initializer = 'he_normal')(conv9)\n",
        "    conv10 = Conv2D(1, 1, activation = 'sigmoid')(conv9)\n",
        "\n",
        "    model = Model(input = inputs, output = conv10)\n",
        "\n",
        "    model.compile(optimizer = Adam(lr = 1e-4), loss = 'binary_crossentropy', metrics = ['accuracy'])\n",
        "    \n",
        "    #model.summary()\n",
        "\n",
        "    if(pretrained_weights):\n",
        "    \tmodel.load_weights(pretrained_weights)\n",
        "\n",
        "    return model"
      ],
      "execution_count": null,
      "outputs": [
        {
          "output_type": "execute_result",
          "data": {
            "text/plain": [
              "<zip at 0x7fb7bdaa0948>"
            ]
          },
          "metadata": {
            "tags": []
          },
          "execution_count": 7
        }
      ]
    }
  ]
}