{
  "nbformat": 4,
  "nbformat_minor": 0,
  "metadata": {
    "colab": {
      "name": "Preprocess.ipynb",
      "provenance": [],
      "authorship_tag": "ABX9TyMNOLmM0RErd/HT/syNt8t7",
      "include_colab_link": true
    },
    "kernelspec": {
      "name": "python3",
      "display_name": "Python 3"
    }
  },
  "cells": [
    {
      "cell_type": "markdown",
      "metadata": {
        "id": "view-in-github",
        "colab_type": "text"
      },
      "source": [
        "<a href=\"https://colab.research.google.com/github/bhanuteja2001/SegPC-2021/blob/main/Preprocess.ipynb\" target=\"_parent\"><img src=\"https://colab.research.google.com/assets/colab-badge.svg\" alt=\"Open In Colab\"/></a>"
      ]
    },
    {
      "cell_type": "code",
      "metadata": {
        "colab": {
          "base_uri": "https://localhost:8080/"
        },
        "id": "Ta0L9ODvAN1M",
        "outputId": "ee214548-ad06-42c3-adf4-aa082e193fb6"
      },
      "source": [
        "from google.colab import drive\r\n",
        "drive.mount('/content/drive')"
      ],
      "execution_count": 1,
      "outputs": [
        {
          "output_type": "stream",
          "text": [
            "Mounted at /content/drive\n"
          ],
          "name": "stdout"
        }
      ]
    },
    {
      "cell_type": "code",
      "metadata": {
        "id": "QklCjYC6AoNM"
      },
      "source": [
        ""
      ],
      "execution_count": null,
      "outputs": []
    },
    {
      "cell_type": "code",
      "metadata": {
        "id": "KYtmo2zdq_2q",
        "outputId": "06d27d4e-7ed3-4f6d-eaa3-6a9c9d17d9af",
        "colab": {
          "base_uri": "https://localhost:8080/"
        }
      },
      "source": [
        "%cd /content/drive/MyDrive/train"
      ],
      "execution_count": 3,
      "outputs": [
        {
          "output_type": "stream",
          "text": [
            "/content/drive/MyDrive/train\n"
          ],
          "name": "stdout"
        }
      ]
    },
    {
      "cell_type": "code",
      "metadata": {
        "id": "BpWWOPw-rG9S"
      },
      "source": [
        "import os\r\n",
        "X = os.listdir('/content/drive/MyDrive/train/x')\r\n",
        "y = os.listdir('/content/drive/MyDrive/train/y')"
      ],
      "execution_count": 42,
      "outputs": []
    },
    {
      "cell_type": "code",
      "metadata": {
        "id": "KhCU9n6bruRC"
      },
      "source": [
        "X_names = []\r\n",
        "for pic in X:\r\n",
        "  X_names.append(int(pic[:-4]))"
      ],
      "execution_count": 66,
      "outputs": []
    },
    {
      "cell_type": "code",
      "metadata": {
        "id": "SavuEh18sskp"
      },
      "source": [
        "y_names = []\r\n",
        "for pic_y in y:\r\n",
        "  y_names.append(pic_y[:-4])\r\n",
        "y_names.sort()\r\n",
        "y_names"
      ],
      "execution_count": null,
      "outputs": []
    },
    {
      "cell_type": "code",
      "metadata": {
        "id": "twRsF6ZYu6Bz"
      },
      "source": [
        "for pic in X_names:\r\n",
        "  "
      ],
      "execution_count": 63,
      "outputs": []
    }
  ]
}