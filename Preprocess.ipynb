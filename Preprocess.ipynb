{
  "nbformat": 4,
  "nbformat_minor": 0,
  "metadata": {
    "colab": {
      "name": "Preprocess.ipynb",
      "provenance": [],
      "authorship_tag": "ABX9TyNlcSEgfOkJcAe+83jG5W1t",
      "include_colab_link": true
    },
    "kernelspec": {
      "name": "python3",
      "display_name": "Python 3"
    },
    "accelerator": "GPU"
  },
  "cells": [
    {
      "cell_type": "markdown",
      "metadata": {
        "id": "view-in-github",
        "colab_type": "text"
      },
      "source": [
        "<a href=\"https://colab.research.google.com/github/bhanuteja2001/SegPC-2021/blob/main/Preprocess.ipynb\" target=\"_parent\"><img src=\"https://colab.research.google.com/assets/colab-badge.svg\" alt=\"Open In Colab\"/></a>"
      ]
    },
    {
      "cell_type": "code",
      "metadata": {
        "colab": {
          "base_uri": "https://localhost:8080/"
        },
        "id": "Ta0L9ODvAN1M",
        "outputId": "de9b3032-c228-4d1e-98fc-645e1f117e5a"
      },
      "source": [
        "from google.colab import drive\r\n",
        "drive.mount('/content/drive')"
      ],
      "execution_count": 1,
      "outputs": [
        {
          "output_type": "stream",
          "text": [
            "Mounted at /content/drive\n"
          ],
          "name": "stdout"
        }
      ]
    },
    {
      "cell_type": "code",
      "metadata": {
        "colab": {
          "base_uri": "https://localhost:8080/"
        },
        "id": "ZP4RYLlZednv",
        "outputId": "e20dd958-1e84-493a-ac3a-d73975458b9c"
      },
      "source": [
        "%cd /content/drive/MyDrive/SegPC-2021"
      ],
      "execution_count": 2,
      "outputs": [
        {
          "output_type": "stream",
          "text": [
            "/content/drive/MyDrive/SegPC-2021\n"
          ],
          "name": "stdout"
        }
      ]
    },
    {
      "cell_type": "code",
      "metadata": {
        "id": "B_4-Qn_mcUej"
      },
      "source": [
        "!unzip \"/content/drive/MyDrive/SegPC-2021/SegPC_2021_Train_data.zip\""
      ],
      "execution_count": null,
      "outputs": []
    },
    {
      "cell_type": "code",
      "metadata": {
        "id": "QklCjYC6AoNM"
      },
      "source": [
        "import os\r\n",
        "import os\r\n",
        "import random\r\n",
        "import re\r\n",
        "from PIL import Image\r\n",
        "\r\n",
        "DATA_PATH = '/content/drive/MyDrive/SegPC-2021/train/'\r\n",
        "FRAME_PATH = \"/content/drive/MyDrive/SegPC-2021/train/x/\"\r\n",
        "MASK_PATH = \"/content/drive/MyDrive/SegPC-2021/train/y/\""
      ],
      "execution_count": 7,
      "outputs": []
    },
    {
      "cell_type": "code",
      "metadata": {
        "colab": {
          "base_uri": "https://localhost:8080/"
        },
        "id": "HDoi9Iv9dOu2",
        "outputId": "242fb0b0-3e85-41c9-af93-2bec625a8c22"
      },
      "source": [
        "os.listdir(\"/content/drive/MyDrive\")"
      ],
      "execution_count": null,
      "outputs": [
        {
          "output_type": "execute_result",
          "data": {
            "text/plain": [
              "['covid_image_data', 'Colab Notebooks', 'SegPC-2021']"
            ]
          },
          "metadata": {
            "tags": []
          },
          "execution_count": 29
        }
      ]
    },
    {
      "cell_type": "code",
      "metadata": {
        "colab": {
          "base_uri": "https://localhost:8080/"
        },
        "id": "VC6-Dog2eqKW",
        "outputId": "aeec2261-ad99-4df6-e56d-d8ccbae7a949"
      },
      "source": [
        "len(os.listdir(\"/content/drive/MyDrive/SegPC-2021/train/x\"))"
      ],
      "execution_count": null,
      "outputs": [
        {
          "output_type": "execute_result",
          "data": {
            "text/plain": [
              "297"
            ]
          },
          "metadata": {
            "tags": []
          },
          "execution_count": 31
        }
      ]
    },
    {
      "cell_type": "code",
      "metadata": {
        "id": "hZYH1k7nefLG"
      },
      "source": [
        "all_frames = os.listdir(FRAME_PATH)\n",
        "all_masks = os.listdir(MASK_PATH)"
      ],
      "execution_count": 8,
      "outputs": []
    },
    {
      "cell_type": "code",
      "metadata": {
        "id": "bZf2Fq91ehWo"
      },
      "source": [
        "def fin(masks,frame):\n",
        "  em = []\n",
        "  for f in masks:\n",
        "    f_1 = f[0:3]+\".bmp\"\n",
        "    if f_1 in frame:\n",
        "      em.append(f)\n",
        "  return em"
      ],
      "execution_count": 14,
      "outputs": []
    },
    {
      "cell_type": "code",
      "metadata": {
        "id": "yw99luEvfFU4"
      },
      "source": [
        "# Create folders to hold images and masks\r\n",
        "\r\n",
        "folders = ['train_frames', 'train_masks', 'val_frames', 'val_masks', 'test_frames', 'test_masks']\r\n",
        "\r\n",
        "\r\n",
        "for folder in folders:\r\n",
        "  os.makedirs(DATA_PATH + folder)\r\n",
        "  \r\n",
        "\r\n",
        "\r\n",
        "# Get all frames and masks, sort them, shuffle them to generate data sets.\r\n",
        "\r\n",
        "all_frames = os.listdir(FRAME_PATH)\r\n",
        "all_masks = os.listdir(MASK_PATH)\r\n",
        "\r\n",
        "\r\n",
        "all_frames.sort(key=lambda var:[int(x) if x.isdigit() else x \r\n",
        "                                for x in re.findall(r'[0-9]+', var)])\r\n",
        "all_masks.sort(key=lambda var:[int(x) if x.isdigit() else x \r\n",
        "                               for x in re.findall(r'[0-9]+', var)])\r\n",
        "\r\n",
        "\r\n",
        "random.seed(230)\r\n",
        "random.shuffle(all_frames)\r\n",
        "\r\n",
        "\r\n",
        "# Generate train, val, and test sets for frames\r\n",
        "\r\n",
        "train_split = int(0.7*len(all_frames))\r\n",
        "val_split = int(0.9 * len(all_frames))\r\n",
        "\r\n",
        "train_frames = all_frames[:train_split]\r\n",
        "val_frames = all_frames[train_split:val_split]\r\n",
        "test_frames = all_frames[val_split:]\r\n",
        "\r\n",
        "\r\n",
        "# Generate corresponding mask lists for masks\r\n",
        "\r\n",
        "train_masks = fin(all_masks,train_frames)\r\n",
        "val_masks = fin(all_masks,val_frames)\r\n",
        "test_masks = fin(all_masks,test_frames)"
      ],
      "execution_count": 51,
      "outputs": []
    },
    {
      "cell_type": "code",
      "metadata": {
        "id": "g3p5ECBsgKe-"
      },
      "source": [
        "frame_folders = [(train_frames, 'train_frames'), (val_frames, 'val_frames'), \n",
        "                 (test_frames, 'test_frames')]\n",
        "\n",
        "mask_folders = [(train_masks, 'train_masks'), (val_masks, 'val_masks'), \n",
        "                (test_masks, 'test_masks')]"
      ],
      "execution_count": 52,
      "outputs": []
    },
    {
      "cell_type": "code",
      "metadata": {
        "colab": {
          "base_uri": "https://localhost:8080/",
          "height": 35
        },
        "id": "y2W0B2gtgLvO",
        "outputId": "b9dda6ec-9597-4d04-cfbb-22b976cd9985"
      },
      "source": [
        "name[1][0:4]"
      ],
      "execution_count": 31,
      "outputs": [
        {
          "output_type": "execute_result",
          "data": {
            "application/vnd.google.colaboratory.intrinsic+json": {
              "type": "string"
            },
            "text/plain": [
              "'test'"
            ]
          },
          "metadata": {
            "tags": []
          },
          "execution_count": 31
        }
      ]
    },
    {
      "cell_type": "code",
      "metadata": {
        "id": "PW_PlV8BwE60"
      },
      "source": [
        "#Add train, val, test frames and masks to relevant folders\n",
        "\n",
        "\n",
        "def add_frames(dir_name, image):\n",
        "  \n",
        "  img = Image.open(FRAME_PATH+image)\n",
        "  img.save(DATA_PATH+'/{}'.format(dir_name)+'/'+image)\n",
        "  \n",
        "  \n",
        "  \n",
        "def add_masks(dir_name, image):\n",
        "  \n",
        "  img = Image.open(MASK_PATH+image)\n",
        "  img.save(DATA_PATH+'/{}'.format(dir_name)+'/'+image)\n",
        "\n",
        "\n",
        "\n",
        "# Add frames\n",
        "\n",
        "for folder in frame_folders:\n",
        "  \n",
        "  array = folder[0]\n",
        "  name = [folder[1]] * len(array)\n",
        "\n",
        "  list(map(add_frames, name, array))\n",
        "         \n",
        "    \n",
        "# Add masks\n",
        "\n",
        "for folder in mask_folders:\n",
        "  \n",
        "  array = folder[0]\n",
        "  name = [folder[1]] * len(array)\n",
        "  \n",
        "  list(map(add_masks, name, array))"
      ],
      "execution_count": 53,
      "outputs": []
    },
    {
      "cell_type": "code",
      "metadata": {
        "id": "YWEJdRTBs83Y"
      },
      "source": [
        "from keras.preprocessing.image import ImageDataGenerator\r\n",
        "\r\n",
        "train_datagen = ImageDataGenerator(\r\n",
        "        rescale=1./255,\r\n",
        "        channel_shift_range=150.0,\r\n",
        "        vertical_flip=True,\r\n",
        "        horizontal_flip=True)\r\n",
        "        \r\n",
        "val_datagen = ImageDataGenerator(rescale=1./255)"
      ],
      "execution_count": 54,
      "outputs": []
    },
    {
      "cell_type": "code",
      "metadata": {
        "colab": {
          "base_uri": "https://localhost:8080/"
        },
        "id": "DCAOzhOytQAV",
        "outputId": "c52a89cc-ad8e-42e1-cce1-fc9b3fbeff2e"
      },
      "source": [
        "train_image_generator = train_datagen.flow_from_directory(\r\n",
        "    directory='/content/drive/MyDrive/SegPC-2021/train/train_frames/',\r\n",
        "    batch_size = 16)\r\n",
        "\r\n",
        "train_mask_generator = train_datagen.flow_from_directory(\r\n",
        "    directory='/content/drive/MyDrive/SegPC-2021/train/train_masks/',\r\n",
        "    batch_size = 16)\r\n",
        "\r\n",
        "val_image_generator = val_datagen.flow_from_directory(\r\n",
        "    directory='/content/drive/MyDrive/SegPC-2021/train/val_frames/',\r\n",
        "    batch_size = 16)\r\n",
        "\r\n",
        "\r\n",
        "val_mask_generator = val_datagen.flow_from_directory(\r\n",
        "    directory='/content/drive/MyDrive/SegPC-2021/train/val_masks/',\r\n",
        "    batch_size = 16)\r\n",
        "\r\n",
        "\r\n",
        "\r\n",
        "train_generator = zip(train_image_generator, train_mask_generator)\r\n",
        "val_generator = zip(val_image_generator, val_mask_generator)"
      ],
      "execution_count": 55,
      "outputs": [
        {
          "output_type": "stream",
          "text": [
            "Found 208 images belonging to 1 classes.\n",
            "Found 118 images belonging to 1 classes.\n",
            "Found 60 images belonging to 1 classes.\n",
            "Found 68 images belonging to 1 classes.\n"
          ],
          "name": "stdout"
        }
      ]
    },
    {
      "cell_type": "code",
      "metadata": {
        "id": "rNqtbyMU4M35"
      },
      "source": [
        "#Step 1: Load libraries for the U-net Model\n",
        "import numpy as np \n",
        "import os\n",
        "import skimage.io as io\n",
        "import skimage.transform as trans\n",
        "import numpy as np\n",
        "from tensorflow.keras.models import *\n",
        "from tensorflow.keras.layers import *\n",
        "from tensorflow.keras.optimizers import *\n",
        "from tensorflow.keras.callbacks import ModelCheckpoint, LearningRateScheduler\n",
        "from tensorflow.keras import backend as keras\n",
        "#from tensorflow import keras\n",
        "import tensorflow as tf\n",
        "\n",
        "#Step 2: Define the U-net model\n",
        "def unet(pretrained_weights = None,input_size = (512,512,1)):\n",
        "    inputs = tf.keras.Input(shape=input_size)\n",
        "    conv1 = Conv2D(64, 3, activation = 'relu', dilation_rate=2,padding = 'same', kernel_initializer = 'he_normal')(inputs)\n",
        "    conv1 = BatchNormalization()(conv1)\n",
        "    conv1 = Conv2D(64, 3, activation = 'relu', dilation_rate=2,padding = 'same', kernel_initializer = 'he_normal')(conv1)\n",
        "    conv1 = BatchNormalization()(conv1)\n",
        "    pool1 = MaxPooling2D(pool_size=(2, 2))(conv1)\n",
        "    conv2 = Conv2D(128, 3, activation = 'relu', dilation_rate=2,padding = 'same', kernel_initializer = 'he_normal')(pool1)\n",
        "    conv2 = BatchNormalization()(conv2)\n",
        "    conv2 = Conv2D(128, 3, activation = 'relu', dilation_rate=2, padding = 'same', kernel_initializer = 'he_normal')(conv2)\n",
        "    conv2 = BatchNormalization()(conv2)\n",
        "    pool2 = MaxPooling2D(pool_size=(2, 2))(conv2)\n",
        "    conv3 = Conv2D(256, 3, activation = 'relu', padding = 'same', kernel_initializer = 'he_normal')(pool2)\n",
        "    conv3 = BatchNormalization()(conv3)\n",
        "    conv3 = Conv2D(256, 3, activation = 'relu', padding = 'same', kernel_initializer = 'he_normal')(conv3)\n",
        "    conv3 = BatchNormalization()(conv3)\n",
        "    pool3 = MaxPooling2D(pool_size=(2, 2))(conv3)\n",
        "    conv4 = Conv2D(512, 3, activation = 'relu', padding = 'same', kernel_initializer = 'he_normal')(pool3)\n",
        "    conv4 = BatchNormalization()(conv4)\n",
        "    conv4 = Conv2D(512, 3, activation = 'relu', padding = 'same', kernel_initializer = 'he_normal')(conv4)\n",
        "    conv4 = BatchNormalization()(conv4)\n",
        "    drop4 = Dropout(0.5)(conv4, training=True)\n",
        "    pool4 = MaxPooling2D(pool_size=(2, 2))(drop4)\n",
        "\n",
        "    conv5 = Conv2D(1024, 3, activation = 'relu', padding = 'same', kernel_initializer = 'he_normal')(pool4)\n",
        "    conv5 = BatchNormalization()(conv5)\n",
        "    conv5 = Conv2D(1024, 3, activation = 'relu', padding = 'same', kernel_initializer = 'he_normal')(conv5)\n",
        "    conv5 = BatchNormalization()(conv5)\n",
        "    drop5 = Dropout(0.5)(conv5, training=True)\n",
        "\n",
        "    up6 = Conv2D(512, 2, activation = 'relu', padding = 'same', kernel_initializer = 'he_normal')(UpSampling2D(size = (2,2))(drop5))\n",
        "    merge6 = concatenate([drop4,up6], axis = 3)\n",
        "    conv6 = Conv2D(512, 3, activation = 'relu', padding = 'same', kernel_initializer = 'he_normal')(merge6)\n",
        "    conv6 = Conv2D(512, 3, activation = 'relu', padding = 'same', kernel_initializer = 'he_normal')(conv6)\n",
        "    \n",
        "\n",
        "    up7 = Conv2D(256, 2, activation = 'relu', padding = 'same', kernel_initializer = 'he_normal')(UpSampling2D(size = (2,2))(conv6))\n",
        "    merge7 = concatenate([conv3,up7], axis = 3)\n",
        "    conv7 = Conv2D(256, 3, activation = 'relu', padding = 'same', kernel_initializer = 'he_normal')(merge7)\n",
        "    conv7 = Conv2D(256, 3, activation = 'relu', padding = 'same', kernel_initializer = 'he_normal')(conv7)\n",
        "    \n",
        "\n",
        "    up8 = Conv2D(128, 2, activation = 'relu', padding = 'same', kernel_initializer = 'he_normal')(UpSampling2D(size = (2,2))(conv7))\n",
        "    merge8 = concatenate([conv2,up8], axis = 3)\n",
        "    conv8 = Conv2D(128, 3, activation = 'relu', padding = 'same', kernel_initializer = 'he_normal')(merge8)\n",
        "    conv8 = Conv2D(128, 3, activation = 'relu', padding = 'same', kernel_initializer = 'he_normal')(conv8)\n",
        "    \n",
        "\n",
        "    up9 = Conv2D(64, 2, activation = 'relu', padding = 'same', kernel_initializer = 'he_normal')(UpSampling2D(size = (2,2))(conv8))\n",
        "    merge9 = concatenate([conv1,up9], axis = 3)\n",
        "    conv9 = Conv2D(64, 3, activation = 'relu', padding = 'same', kernel_initializer = 'he_normal')(merge9)\n",
        "    conv9 = Conv2D(64, 3, activation = 'relu', padding = 'same', kernel_initializer = 'he_normal')(conv9)\n",
        "    conv9 = Conv2D(2, 3, activation = 'relu', padding = 'same', kernel_initializer = 'he_normal')(conv9)\n",
        "   \n",
        "    conv10 = Conv2D(1, 1, activation = 'sigmoid')(conv9)\n",
        "\n",
        "    model = tf.keras.Model(inputs = inputs, outputs = conv10)\n",
        "\n",
        "    model.compile(optimizer = Adam(lr = 1e-4), loss = 'binary_crossentropy', metrics = 'accuracy')\n",
        "    \n",
        "\n",
        "    if(pretrained_weights):\n",
        "    \tmodel=keras.models.load_model(pretrained_weights)\n",
        "\n",
        "    return model"
      ],
      "execution_count": 57,
      "outputs": []
    },
    {
      "cell_type": "code",
      "metadata": {
        "id": "3zjzw9vgp87e"
      },
      "source": [
        "#Step 3:Define functions for pre-processing data\n",
        "from tensorflow.keras.preprocessing.image import ImageDataGenerator\n",
        "import skimage.io as io\n",
        "import skimage.transform as trans\n",
        "import matplotlib.pyplot as plt\n",
        "import scipy.misc as sc\n",
        "\n",
        "\n",
        "def adjustData(img,mask,flag_multi_class,num_class):\n",
        "    if(flag_multi_class):\n",
        "        img /= 255\n",
        "        mask = mask[:,:,:,0] if(len(mask.shape) == 4) else mask[:,:,0]\n",
        "        new_mask = np.zeros(mask.shape + (num_class,))\n",
        "        for i in range(num_class):\n",
        "            #for one pixel in the image, find the class in mask and convert it into one-hot vector\n",
        "            #index = np.where(mask == i)\n",
        "            #index_mask = (index[0],index[1],index[2],np.zeros(len(index[0]),dtype = np.int64) + i) if (len(mask.shape) == 4) else (index[0],index[1],np.zeros(len(index[0]),dtype = np.int64) + i)\n",
        "            #new_mask[index_mask] = 1\n",
        "            new_mask[mask == i,i] = 1\n",
        "        new_mask = np.reshape(new_mask,(new_mask.shape[0],new_mask.shape[1]*new_mask.shape[2],new_mask.shape[3])) if flag_multi_class else np.reshape(new_mask,(new_mask.shape[0]*new_mask.shape[1],new_mask.shape[2]))\n",
        "        mask = new_mask\n",
        "    elif(np.max(img) > 1):\n",
        "        img = img / 255\n",
        "        mask = mask /255\n",
        "        mask[mask > 0.5] = 1\n",
        "        mask[mask <= 0.5] = 0\n",
        "        #print(np.shape(mask),np.shape(img))\n",
        "    return (img,mask)\n",
        "\n",
        "\n",
        "\n",
        "def trainGenerator(batch_size,train_path,image_folder,mask_folder,aug_dict,image_color_mode = \"grayscale\",\n",
        "                    mask_color_mode = \"grayscale\",image_save_prefix  = \"image\",mask_save_prefix  = \"mask\",\n",
        "                    flag_multi_class = False,num_class = 2,save_to_dir = None,target_size = (512,512),seed = 1):\n",
        "    '''\n",
        "    can generate image and mask at the same time\n",
        "    use the same seed for image_datagen and mask_datagen to ensure the transformation for image and mask is the same\n",
        "    if you want to visualize the results of generator, set save_to_dir = \"your path\"\n",
        "    '''\n",
        "    image_datagen = ImageDataGenerator(**aug_dict)\n",
        "    mask_datagen = ImageDataGenerator(**aug_dict)\n",
        "    image_generator = image_datagen.flow_from_directory(\n",
        "        train_path,\n",
        "        classes = [image_folder],\n",
        "        class_mode = None,\n",
        "        color_mode = image_color_mode,\n",
        "        target_size = target_size,\n",
        "        batch_size = batch_size,\n",
        "        save_to_dir = save_to_dir,\n",
        "        save_prefix  = image_save_prefix,\n",
        "        seed = seed)\n",
        "    mask_generator = mask_datagen.flow_from_directory(\n",
        "        train_path,\n",
        "        classes = [mask_folder],\n",
        "        class_mode = None,\n",
        "        color_mode = mask_color_mode,\n",
        "        target_size = target_size,\n",
        "        batch_size = batch_size,\n",
        "        save_to_dir = save_to_dir,\n",
        "        \n",
        "        save_prefix  = mask_save_prefix,\n",
        "        seed = seed)\n",
        "    train_generator = zip(image_generator, mask_generator)\n",
        "    for (img,mask) in train_generator:\n",
        "        img,mask = adjustData(img,mask,flag_multi_class,num_class)\n",
        "        yield (img,mask)\n",
        "\n",
        "\n",
        "def testGenerator(test_path,num_image = 30,target_size = (512,512),flag_multi_class = False,as_gray = True):\n",
        "    files=sorted(os.listdir(test_path))\n",
        "    num_image=len(files)\n",
        "    for i in range(num_image):\n",
        "        img = io.imread(os.path.join(test_path,files[i]),as_gray = as_gray)\n",
        "        print(files[i])\n",
        "        img = trans.resize(img,target_size)\n",
        "        img = np.reshape(img,img.shape+(1,)) if (not flag_multi_class) else img\n",
        "        img = np.reshape(img,(1,)+img.shape)\n",
        "        yield img"
      ],
      "execution_count": null,
      "outputs": []
    },
    {
      "cell_type": "code",
      "metadata": {
        "id": "xu7SXMrdsLj3"
      },
      "source": [
        "#Step 4: Define function to save the test images\n",
        "def labelVisualize(num_class,color_dict,img):\n",
        "    img = img[:,:,0] if len(img.shape) == 3 else img\n",
        "    img_out = np.zeros(img.shape + (3,))\n",
        "    for i in range(num_class):\n",
        "        img_out[img == i] = color_dict[i]\n",
        "      \n",
        "    return img_out\n",
        "\n",
        "\n",
        "def saveResult(img_path,save_path,npyfile,flag_multi_class = False,num_class = 2):\n",
        "    files=os.listdir(img_path)\n",
        "    #print(len(img_path))\n",
        "    #print(len(npyfile))\n",
        "    \n",
        "    for i,item in enumerate(npyfile):\n",
        "        img = labelVisualize(num_class,COLOR_DICT,item) if flag_multi_class else item[:,:,0]\n",
        "        #img1=np.array(((img - np.min(img))/np.ptp(img))>0.6).astype(float)\n",
        "        img[img>0.1]=1\n",
        "        img[img<=0.1]=0\n",
        "        io.imsave(os.path.join(save_path, files[i]+'_predict.png'),img)\n"
      ],
      "execution_count": null,
      "outputs": []
    },
    {
      "cell_type": "code",
      "metadata": {
        "id": "PHSSotMcsSU7"
      },
      "source": [
        "#Step 5: Define functions to evaluate the output\n",
        "import sklearn.metrics as sm\n",
        "\n",
        "def get_confusion_matrix_elements(groundtruth_list, predicted_list):\n",
        "    \"\"\"returns confusion matrix elements i.e TN, FP, FN, TP as floats\n",
        "\tSee example code for helper function definitions\n",
        "    \"\"\"\n",
        "    tn, fp, fn, tp = sm.confusion_matrix(groundtruth_list, predicted_list,labels=[0,1]).ravel()\n",
        "    tn, fp, fn, tp = np.float64(tn), np.float64(fp), np.float64(fn), np.float64(tp)\n",
        "\n",
        "    return tn, fp, fn, tp\n",
        "\n",
        "def get_prec_rec_IoU_accuracy(groundtruth_list, predicted_list):\n",
        "    \"\"\"returns precision, recall, IoU and accuracy metrics\n",
        "\t\"\"\"\n",
        "    tn, fp, fn, tp = get_confusion_matrix_elements(groundtruth_list, predicted_list)\n",
        "    \n",
        "    total = tp + fp + fn + tn\n",
        "    accuracy = (tp + tn) / total\n",
        "    prec=tp/(tp+fp)\n",
        "    rec=tp/(tp+fn)\n",
        "    IoU=tp/(tp+fp+fn)\n",
        "    \n",
        "    return prec,rec,IoU,accuracy\n",
        "\n",
        "def get_f1_score(groundtruth_list, predicted_list):\n",
        "    \"\"\"Return f1 score covering edge cases\"\"\"\n",
        "\n",
        "    tn, fp, fn, tp = get_confusion_matrix_elements(groundtruth_list, predicted_list)\n",
        "    \n",
        "    f1_score = (2 * tp) / ((2 * tp) + fp + fn)\n",
        "\n",
        "    return f1_score\n",
        "\n",
        "def get_validation_metrics(groundtruth,predicted):\n",
        "    \"\"\"Return all output metrics. Input is binary images\"\"\"\n",
        "   \n",
        "    u,v=np.shape(groundtruth)\n",
        "    groundtruth_list=np.reshape(groundtruth,(u*v,))\n",
        "    predicted_list=np.reshape(predicted,(u*v,))\n",
        "    prec,rec,IoU,acc=get_prec_rec_IoU_accuracy(groundtruth_list, predicted_list)\n",
        "    f1_score=get_f1_score(groundtruth_list, predicted_list)\n",
        "   # print(\"Precision=\",prec, \"Recall=\",rec, \"IoU=\",IoU, \"acc=\",acc, \"F1=\",f1_score)\n",
        "    return prec,rec,IoU,acc,f1_score\n",
        "\n",
        "def evalResult(gth_path,npyfile,target_size=(512,512),flag_multi_class = False,num_class = 2):\n",
        "    files=sorted(os.listdir(gth_path))\n",
        "    print(files)\n",
        "    prec=0\n",
        "    rec=0\n",
        "    acc=0\n",
        "    IoU=0\n",
        "    f1_score=0\n",
        "    for i,item in enumerate(npyfile):\n",
        "        img = item[:,:,0]\n",
        "        gth = io.imread(os.path.join(gth_path,files[i]))\n",
        "        gth = trans.resize(gth,target_size)\n",
        "        img1=np.array(((img - np.min(img))/np.ptp(img))>0.1).astype(float)\n",
        "        gth1=np.array(((gth - np.min(gth))/np.ptp(gth))>0.1).astype(float)\n",
        "        p,r,I,a,f=get_validation_metrics(gth1,img1)\n",
        "        prec=prec+p\n",
        "        rec=rec+r\n",
        "        acc=acc+a\n",
        "        IoU=IoU+I\n",
        "        f1_score=f1_score+f\n",
        "    print(\"Precision=\",prec/(i+1), \"Recall=\",rec/(i+1), \"IoU=\",IoU/(i+1), \"acc=\",acc/(i+1), \"F1=\",f1_score/(i+1))"
      ],
      "execution_count": null,
      "outputs": []
    },
    {
      "cell_type": "code",
      "metadata": {
        "id": "zMgqVV1xscm8"
      },
      "source": [
        ""
      ],
      "execution_count": null,
      "outputs": []
    },
    {
      "cell_type": "code",
      "metadata": {
        "id": "HmoUwx4YsdPa"
      },
      "source": [
        "#Step 1: Call to image data generator in keras\n",
        "data_gen_args = dict(rotation_range=0.3,\n",
        "                    width_shift_range=0.05,\n",
        "                    height_shift_range=0.05,\n",
        "                    shear_range=0.1,\n",
        "                    zoom_range=[0.7,1],\n",
        "                    horizontal_flip=True,\n",
        "                    fill_mode='nearest')\n",
        "PATH='./STARE/train/'"
      ],
      "execution_count": null,
      "outputs": []
    },
    {
      "cell_type": "code",
      "metadata": {
        "id": "G3Zk-FIKsgth"
      },
      "source": [
        "if not os.path.exists(PATH+'aug'):\n",
        "    os.makedirs(PATH+'aug')\n",
        "    \n",
        "if not os.path.exists('./STARE/test/'+'pred'):\n",
        "    os.makedirs('./STARE/test/'+'pred')    \n",
        "data_gen = trainGenerator(3,PATH,'images','GT',data_gen_args, save_to_dir = PATH+'aug')"
      ],
      "execution_count": null,
      "outputs": []
    },
    {
      "cell_type": "code",
      "metadata": {
        "id": "Qlg9-lbBshY2",
        "outputId": "930e81a1-2fdf-4809-a2d4-47356a2aa813",
        "colab": {
          "base_uri": "https://localhost:8080/"
        }
      },
      "source": [
        "\n",
        "\n",
        "#Step 2: Initialize the model. Train from scratch!\n",
        "model = unet()\n",
        "model.summary()\n",
        "\n"
      ],
      "execution_count": 58,
      "outputs": [
        {
          "output_type": "stream",
          "text": [
            "Model: \"model\"\n",
            "__________________________________________________________________________________________________\n",
            "Layer (type)                    Output Shape         Param #     Connected to                     \n",
            "==================================================================================================\n",
            "input_1 (InputLayer)            [(None, 512, 512, 1) 0                                            \n",
            "__________________________________________________________________________________________________\n",
            "conv2d (Conv2D)                 (None, 512, 512, 64) 640         input_1[0][0]                    \n",
            "__________________________________________________________________________________________________\n",
            "batch_normalization (BatchNorma (None, 512, 512, 64) 256         conv2d[0][0]                     \n",
            "__________________________________________________________________________________________________\n",
            "conv2d_1 (Conv2D)               (None, 512, 512, 64) 36928       batch_normalization[0][0]        \n",
            "__________________________________________________________________________________________________\n",
            "batch_normalization_1 (BatchNor (None, 512, 512, 64) 256         conv2d_1[0][0]                   \n",
            "__________________________________________________________________________________________________\n",
            "max_pooling2d (MaxPooling2D)    (None, 256, 256, 64) 0           batch_normalization_1[0][0]      \n",
            "__________________________________________________________________________________________________\n",
            "conv2d_2 (Conv2D)               (None, 256, 256, 128 73856       max_pooling2d[0][0]              \n",
            "__________________________________________________________________________________________________\n",
            "batch_normalization_2 (BatchNor (None, 256, 256, 128 512         conv2d_2[0][0]                   \n",
            "__________________________________________________________________________________________________\n",
            "conv2d_3 (Conv2D)               (None, 256, 256, 128 147584      batch_normalization_2[0][0]      \n",
            "__________________________________________________________________________________________________\n",
            "batch_normalization_3 (BatchNor (None, 256, 256, 128 512         conv2d_3[0][0]                   \n",
            "__________________________________________________________________________________________________\n",
            "max_pooling2d_1 (MaxPooling2D)  (None, 128, 128, 128 0           batch_normalization_3[0][0]      \n",
            "__________________________________________________________________________________________________\n",
            "conv2d_4 (Conv2D)               (None, 128, 128, 256 295168      max_pooling2d_1[0][0]            \n",
            "__________________________________________________________________________________________________\n",
            "batch_normalization_4 (BatchNor (None, 128, 128, 256 1024        conv2d_4[0][0]                   \n",
            "__________________________________________________________________________________________________\n",
            "conv2d_5 (Conv2D)               (None, 128, 128, 256 590080      batch_normalization_4[0][0]      \n",
            "__________________________________________________________________________________________________\n",
            "batch_normalization_5 (BatchNor (None, 128, 128, 256 1024        conv2d_5[0][0]                   \n",
            "__________________________________________________________________________________________________\n",
            "max_pooling2d_2 (MaxPooling2D)  (None, 64, 64, 256)  0           batch_normalization_5[0][0]      \n",
            "__________________________________________________________________________________________________\n",
            "conv2d_6 (Conv2D)               (None, 64, 64, 512)  1180160     max_pooling2d_2[0][0]            \n",
            "__________________________________________________________________________________________________\n",
            "batch_normalization_6 (BatchNor (None, 64, 64, 512)  2048        conv2d_6[0][0]                   \n",
            "__________________________________________________________________________________________________\n",
            "conv2d_7 (Conv2D)               (None, 64, 64, 512)  2359808     batch_normalization_6[0][0]      \n",
            "__________________________________________________________________________________________________\n",
            "batch_normalization_7 (BatchNor (None, 64, 64, 512)  2048        conv2d_7[0][0]                   \n",
            "__________________________________________________________________________________________________\n",
            "dropout (Dropout)               (None, 64, 64, 512)  0           batch_normalization_7[0][0]      \n",
            "__________________________________________________________________________________________________\n",
            "max_pooling2d_3 (MaxPooling2D)  (None, 32, 32, 512)  0           dropout[0][0]                    \n",
            "__________________________________________________________________________________________________\n",
            "conv2d_8 (Conv2D)               (None, 32, 32, 1024) 4719616     max_pooling2d_3[0][0]            \n",
            "__________________________________________________________________________________________________\n",
            "batch_normalization_8 (BatchNor (None, 32, 32, 1024) 4096        conv2d_8[0][0]                   \n",
            "__________________________________________________________________________________________________\n",
            "conv2d_9 (Conv2D)               (None, 32, 32, 1024) 9438208     batch_normalization_8[0][0]      \n",
            "__________________________________________________________________________________________________\n",
            "batch_normalization_9 (BatchNor (None, 32, 32, 1024) 4096        conv2d_9[0][0]                   \n",
            "__________________________________________________________________________________________________\n",
            "dropout_1 (Dropout)             (None, 32, 32, 1024) 0           batch_normalization_9[0][0]      \n",
            "__________________________________________________________________________________________________\n",
            "up_sampling2d (UpSampling2D)    (None, 64, 64, 1024) 0           dropout_1[0][0]                  \n",
            "__________________________________________________________________________________________________\n",
            "conv2d_10 (Conv2D)              (None, 64, 64, 512)  2097664     up_sampling2d[0][0]              \n",
            "__________________________________________________________________________________________________\n",
            "concatenate (Concatenate)       (None, 64, 64, 1024) 0           dropout[0][0]                    \n",
            "                                                                 conv2d_10[0][0]                  \n",
            "__________________________________________________________________________________________________\n",
            "conv2d_11 (Conv2D)              (None, 64, 64, 512)  4719104     concatenate[0][0]                \n",
            "__________________________________________________________________________________________________\n",
            "conv2d_12 (Conv2D)              (None, 64, 64, 512)  2359808     conv2d_11[0][0]                  \n",
            "__________________________________________________________________________________________________\n",
            "up_sampling2d_1 (UpSampling2D)  (None, 128, 128, 512 0           conv2d_12[0][0]                  \n",
            "__________________________________________________________________________________________________\n",
            "conv2d_13 (Conv2D)              (None, 128, 128, 256 524544      up_sampling2d_1[0][0]            \n",
            "__________________________________________________________________________________________________\n",
            "concatenate_1 (Concatenate)     (None, 128, 128, 512 0           batch_normalization_5[0][0]      \n",
            "                                                                 conv2d_13[0][0]                  \n",
            "__________________________________________________________________________________________________\n",
            "conv2d_14 (Conv2D)              (None, 128, 128, 256 1179904     concatenate_1[0][0]              \n",
            "__________________________________________________________________________________________________\n",
            "conv2d_15 (Conv2D)              (None, 128, 128, 256 590080      conv2d_14[0][0]                  \n",
            "__________________________________________________________________________________________________\n",
            "up_sampling2d_2 (UpSampling2D)  (None, 256, 256, 256 0           conv2d_15[0][0]                  \n",
            "__________________________________________________________________________________________________\n",
            "conv2d_16 (Conv2D)              (None, 256, 256, 128 131200      up_sampling2d_2[0][0]            \n",
            "__________________________________________________________________________________________________\n",
            "concatenate_2 (Concatenate)     (None, 256, 256, 256 0           batch_normalization_3[0][0]      \n",
            "                                                                 conv2d_16[0][0]                  \n",
            "__________________________________________________________________________________________________\n",
            "conv2d_17 (Conv2D)              (None, 256, 256, 128 295040      concatenate_2[0][0]              \n",
            "__________________________________________________________________________________________________\n",
            "conv2d_18 (Conv2D)              (None, 256, 256, 128 147584      conv2d_17[0][0]                  \n",
            "__________________________________________________________________________________________________\n",
            "up_sampling2d_3 (UpSampling2D)  (None, 512, 512, 128 0           conv2d_18[0][0]                  \n",
            "__________________________________________________________________________________________________\n",
            "conv2d_19 (Conv2D)              (None, 512, 512, 64) 32832       up_sampling2d_3[0][0]            \n",
            "__________________________________________________________________________________________________\n",
            "concatenate_3 (Concatenate)     (None, 512, 512, 128 0           batch_normalization_1[0][0]      \n",
            "                                                                 conv2d_19[0][0]                  \n",
            "__________________________________________________________________________________________________\n",
            "conv2d_20 (Conv2D)              (None, 512, 512, 64) 73792       concatenate_3[0][0]              \n",
            "__________________________________________________________________________________________________\n",
            "conv2d_21 (Conv2D)              (None, 512, 512, 64) 36928       conv2d_20[0][0]                  \n",
            "__________________________________________________________________________________________________\n",
            "conv2d_22 (Conv2D)              (None, 512, 512, 2)  1154        conv2d_21[0][0]                  \n",
            "__________________________________________________________________________________________________\n",
            "conv2d_23 (Conv2D)              (None, 512, 512, 1)  3           conv2d_22[0][0]                  \n",
            "==================================================================================================\n",
            "Total params: 31,047,557\n",
            "Trainable params: 31,039,621\n",
            "Non-trainable params: 7,936\n",
            "__________________________________________________________________________________________________\n"
          ],
          "name": "stdout"
        }
      ]
    },
    {
      "cell_type": "code",
      "metadata": {
        "id": "kVo09r4QslOV"
      },
      "source": [
        "#Step 3: Initialize Tensorboard to monitor changes in Model Loss \n",
        "import datetime\n",
        "%load_ext tensorboard\n",
        "log_dir = \"logs/fit/\" + datetime.datetime.now().strftime(\"%Y%m%d-%H%M%S\")\n",
        "tensorboard_callback = tf.keras.callbacks.TensorBoard(log_dir=log_dir, histogram_freq=1)"
      ],
      "execution_count": null,
      "outputs": []
    },
    {
      "cell_type": "code",
      "metadata": {
        "id": "7LccVOfSsrDb"
      },
      "source": [
        "#Step 4: Fit the u-net model\n",
        "model_checkpoint = tf.keras.callbacks.ModelCheckpoint('unet_STARE.hdf5', monitor='loss',verbose=1, save_best_only=True)\n",
        "model.fit(data_gen,steps_per_epoch=10,epochs=80,verbose=0,callbacks=[model_checkpoint,tensorboard_callback])"
      ],
      "execution_count": null,
      "outputs": []
    },
    {
      "cell_type": "code",
      "metadata": {
        "id": "Hc5Xxx2lsug3"
      },
      "source": [
        "#Visualize on tensorboard\n",
        "%tensorboard --logdir logs/fit\n"
      ],
      "execution_count": null,
      "outputs": []
    },
    {
      "cell_type": "markdown",
      "metadata": {
        "id": "e2GdEaoGs7QL"
      },
      "source": [
        "https://github.com/sohiniroych/Unet-using-TF2/blob/main/U-net_TF2_retinal_image_segmentation_STARE.ipynb"
      ]
    },
    {
      "cell_type": "code",
      "metadata": {
        "id": "N8gN1UEXsvCF"
      },
      "source": [
        "https://github.com/sohiniroych/Unet-using-TF2/blob/main/U-net_TF2_retinal_image_segmentation_STARE.ipynb"
      ],
      "execution_count": null,
      "outputs": []
    }
  ]
}