{
  "nbformat": 4,
  "nbformat_minor": 0,
  "metadata": {
    "colab": {
      "name": "Preprocess.ipynb",
      "provenance": [],
      "authorship_tag": "ABX9TyMjBzgEzCWIBkGR6c+0fT5a",
      "include_colab_link": true
    },
    "kernelspec": {
      "name": "python3",
      "display_name": "Python 3"
    }
  },
  "cells": [
    {
      "cell_type": "markdown",
      "metadata": {
        "id": "view-in-github",
        "colab_type": "text"
      },
      "source": [
        "<a href=\"https://colab.research.google.com/github/bhanuteja2001/SegPC-2021/blob/main/Preprocess.ipynb\" target=\"_parent\"><img src=\"https://colab.research.google.com/assets/colab-badge.svg\" alt=\"Open In Colab\"/></a>"
      ]
    },
    {
      "cell_type": "code",
      "metadata": {
        "colab": {
          "base_uri": "https://localhost:8080/"
        },
        "id": "Ta0L9ODvAN1M",
        "outputId": "68c042ac-5767-49cf-c9ec-2ff95ecbe124"
      },
      "source": [
        "from google.colab import drive\r\n",
        "drive.mount('/content/drive')"
      ],
      "execution_count": 1,
      "outputs": [
        {
          "output_type": "stream",
          "text": [
            "Mounted at /content/drive\n"
          ],
          "name": "stdout"
        }
      ]
    },
    {
      "cell_type": "code",
      "metadata": {
        "id": "ZP4RYLlZednv",
        "outputId": "841099d5-adec-4bf9-d6d2-e94a214079fd",
        "colab": {
          "base_uri": "https://localhost:8080/"
        }
      },
      "source": [
        "%cd /content/drive/MyDrive"
      ],
      "execution_count": 27,
      "outputs": [
        {
          "output_type": "stream",
          "text": [
            "/content/drive/MyDrive\n"
          ],
          "name": "stdout"
        }
      ]
    },
    {
      "cell_type": "code",
      "metadata": {
        "id": "QklCjYC6AoNM"
      },
      "source": [
        "import os\r\n",
        "for file in (os.listdir(\"/content/drive/MyDrive\")[3:]):\r\n",
        "  if os.path.exists(str(file)):\r\n",
        "    os.remove(str(file))\r\n",
        "  else:\r\n",
        "    print(\"The file {} does not exist\",file)"
      ],
      "execution_count": 28,
      "outputs": []
    },
    {
      "cell_type": "code",
      "metadata": {
        "id": "HDoi9Iv9dOu2",
        "outputId": "242fb0b0-3e85-41c9-af93-2bec625a8c22",
        "colab": {
          "base_uri": "https://localhost:8080/"
        }
      },
      "source": [
        "os.listdir(\"/content/drive/MyDrive\")"
      ],
      "execution_count": 29,
      "outputs": [
        {
          "output_type": "execute_result",
          "data": {
            "text/plain": [
              "['covid_image_data', 'Colab Notebooks', 'SegPC-2021']"
            ]
          },
          "metadata": {
            "tags": []
          },
          "execution_count": 29
        }
      ]
    },
    {
      "cell_type": "code",
      "metadata": {
        "id": "VC6-Dog2eqKW",
        "outputId": "aeec2261-ad99-4df6-e56d-d8ccbae7a949",
        "colab": {
          "base_uri": "https://localhost:8080/"
        }
      },
      "source": [
        "len(os.listdir(\"/content/drive/MyDrive/SegPC-2021/train/x\"))"
      ],
      "execution_count": 31,
      "outputs": [
        {
          "output_type": "execute_result",
          "data": {
            "text/plain": [
              "297"
            ]
          },
          "metadata": {
            "tags": []
          },
          "execution_count": 31
        }
      ]
    },
    {
      "cell_type": "code",
      "metadata": {
        "id": "yw99luEvfFU4"
      },
      "source": [
        "import os\r\n",
        "import random\r\n",
        "import re\r\n",
        "from PIL import Image\r\n",
        "\r\n",
        "DATA_PATH = '/content/drive/MyDrive/SegPC-2021/train/'\r\n",
        "FRAME_PATH = \"/content/drive/MyDrive/SegPC-2021/train/x/\"\r\n",
        "MASK_PATH = \"/content/drive/MyDrive/SegPC-2021/train/y/\"\r\n",
        "\r\n",
        "\r\n",
        "\r\n",
        "# Create folders to hold images and masks\r\n",
        "\r\n",
        "folders = ['train_frames', 'train_masks', 'val_frames', 'val_masks', 'test_frames', 'test_masks']\r\n",
        "\r\n",
        "\r\n",
        "for folder in folders:\r\n",
        "  os.makedirs(DATA_PATH + folder)\r\n",
        "  \r\n",
        "\r\n",
        "\r\n",
        "# Get all frames and masks, sort them, shuffle them to generate data sets.\r\n",
        "\r\n",
        "all_frames = os.listdir(FRAME_PATH)\r\n",
        "all_masks = os.listdir(MASK_PATH)\r\n",
        "\r\n",
        "\r\n",
        "all_frames.sort(key=lambda var:[int(x) if x.isdigit() else x \r\n",
        "                                for x in re.findall(r'[^0-9]|[0-9]+', var)])\r\n",
        "all_masks.sort(key=lambda var:[int(x) if x.isdigit() else x \r\n",
        "                               for x in re.findall(r'[^0-9]|[0-9]+', var)])\r\n",
        "\r\n",
        "\r\n",
        "random.seed(230)\r\n",
        "random.shuffle(all_frames)\r\n",
        "\r\n",
        "\r\n",
        "# Generate train, val, and test sets for frames\r\n",
        "\r\n",
        "train_split = int(0.7*len(all_frames))\r\n",
        "val_split = int(0.9 * len(all_frames))\r\n",
        "\r\n",
        "train_frames = all_frames[:train_split]\r\n",
        "val_frames = all_frames[train_split:val_split]\r\n",
        "test_frames = all_frames[val_split:]\r\n",
        "\r\n",
        "\r\n",
        "# Generate corresponding mask lists for masks\r\n",
        "\r\n",
        "train_masks = [f for f in all_masks if f in train_frames]\r\n",
        "val_masks = [f for f in all_masks if f in val_frames]\r\n",
        "test_masks = [f for f in all_masks if f in test_frames]\r\n",
        "\r\n",
        "\r\n",
        "#Add train, val, test frames and masks to relevant folders\r\n",
        "\r\n",
        "\r\n",
        "def add_frames(dir_name, image):\r\n",
        "  \r\n",
        "  img = Image.open(FRAME_PATH+image)\r\n",
        "  img.save(DATA_PATH+'/{}'.format(dir_name)+'/'+image)\r\n",
        "  \r\n",
        "  \r\n",
        "  \r\n",
        "def add_masks(dir_name, image):\r\n",
        "  \r\n",
        "  img = Image.open(MASK_PATH+image)\r\n",
        "  img.save(DATA_PATH+'/{}'.format(dir_name)+'/'+image)\r\n",
        "\r\n",
        "\r\n",
        "  \r\n",
        "  \r\n",
        "frame_folders = [(train_frames, 'train_frames'), (val_frames, 'val_frames'), \r\n",
        "                 (test_frames, 'test_frames')]\r\n",
        "\r\n",
        "mask_folders = [(train_masks, 'train_masks'), (val_masks, 'val_masks'), \r\n",
        "                (test_masks, 'test_masks')]\r\n",
        "\r\n",
        "# Add frames\r\n",
        "\r\n",
        "for folder in frame_folders:\r\n",
        "  \r\n",
        "  array = folder[0]\r\n",
        "  name = [folder[1]] * len(array)\r\n",
        "\r\n",
        "  list(map(add_frames, name, array))\r\n",
        "         \r\n",
        "    \r\n",
        "# Add masks\r\n",
        "\r\n",
        "for folder in mask_folders:\r\n",
        "  \r\n",
        "  array = folder[0]\r\n",
        "  name = [folder[1]] * len(array)\r\n",
        "  "
      ],
      "execution_count": 35,
      "outputs": []
    },
    {
      "cell_type": "code",
      "metadata": {
        "id": "PW_PlV8BwE60"
      },
      "source": [
        ""
      ],
      "execution_count": null,
      "outputs": []
    },
    {
      "cell_type": "code",
      "metadata": {
        "id": "YWEJdRTBs83Y"
      },
      "source": [
        "from keras.preprocessing.image import ImageDataGenerator\r\n",
        "\r\n",
        "train_datagen = ImageDataGenerator(\r\n",
        "        rescale=1./255,\r\n",
        "        channel_shift_range=150.0,\r\n",
        "        vertical_flip=True,\r\n",
        "        horizontal_flip=True)\r\n",
        "        \r\n",
        "val_datagen = ImageDataGenerator(rescale=1./255)"
      ],
      "execution_count": 36,
      "outputs": []
    },
    {
      "cell_type": "code",
      "metadata": {
        "id": "DCAOzhOytQAV"
      },
      "source": [
        "train_image_generator = train_datagen.flow_from_directory(\r\n",
        "'/content/drive/MyDrive/SegPC-2021/train/train_frames',\r\n",
        "batch_size = #NORMALLY 4/8/16/32)\r\n",
        "\r\n",
        "train_mask_generator = train_datagen.flow_from_directory(\r\n",
        "'/content/drive/MyDrive/SegPC-2021/train/train_masks',\r\n",
        "batch_size = #NORMALLY 4/8/16/32)\r\n",
        "\r\n",
        "val_image_generator = val_datagen.flow_from_directory(\r\n",
        "'/content/drive/MyDrive/SegPC-2021/train/val_frames',\r\n",
        "batch_size = #NORMALLY 4/8/16/32)\r\n",
        "\r\n",
        "\r\n",
        "val_mask_generator = val_datagen.flow_from_directory(\r\n",
        "'/content/drive/MyDrive/SegPC-2021/train/val_masks',\r\n",
        "batch_size = #NORMALLY 4/8/16/32)\r\n",
        "\r\n",
        "\r\n",
        "\r\n",
        "train_generator = zip(train_image_generator, train_mask_generator)\r\n",
        "val_generator = zip(val_image_generator, val_mask_generator)"
      ],
      "execution_count": null,
      "outputs": []
    }
  ]
}