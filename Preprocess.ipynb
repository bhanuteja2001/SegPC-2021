{
  "nbformat": 4,
  "nbformat_minor": 0,
  "metadata": {
    "colab": {
      "name": "Preprocess.ipynb",
      "provenance": [],
      "authorship_tag": "ABX9TyNVfdzZvQUghQc5nRR0AmDr",
      "include_colab_link": true
    },
    "kernelspec": {
      "name": "python3",
      "display_name": "Python 3"
    },
    "accelerator": "GPU"
  },
  "cells": [
    {
      "cell_type": "markdown",
      "metadata": {
        "id": "view-in-github",
        "colab_type": "text"
      },
      "source": [
        "<a href=\"https://colab.research.google.com/github/bhanuteja2001/SegPC-2021/blob/main/Preprocess.ipynb\" target=\"_parent\"><img src=\"https://colab.research.google.com/assets/colab-badge.svg\" alt=\"Open In Colab\"/></a>"
      ]
    },
    {
      "cell_type": "code",
      "metadata": {
        "colab": {
          "base_uri": "https://localhost:8080/"
        },
        "id": "Ta0L9ODvAN1M",
        "outputId": "de9b3032-c228-4d1e-98fc-645e1f117e5a"
      },
      "source": [
        "from google.colab import drive\r\n",
        "drive.mount('/content/drive')"
      ],
      "execution_count": 1,
      "outputs": [
        {
          "output_type": "stream",
          "text": [
            "Mounted at /content/drive\n"
          ],
          "name": "stdout"
        }
      ]
    },
    {
      "cell_type": "code",
      "metadata": {
        "colab": {
          "base_uri": "https://localhost:8080/"
        },
        "id": "ZP4RYLlZednv",
        "outputId": "e20dd958-1e84-493a-ac3a-d73975458b9c"
      },
      "source": [
        "%cd /content/drive/MyDrive/SegPC-2021"
      ],
      "execution_count": 2,
      "outputs": [
        {
          "output_type": "stream",
          "text": [
            "/content/drive/MyDrive/SegPC-2021\n"
          ],
          "name": "stdout"
        }
      ]
    },
    {
      "cell_type": "code",
      "metadata": {
        "id": "B_4-Qn_mcUej"
      },
      "source": [
        "!unzip \"/content/drive/MyDrive/SegPC-2021/SegPC_2021_Train_data.zip\""
      ],
      "execution_count": null,
      "outputs": []
    },
    {
      "cell_type": "code",
      "metadata": {
        "id": "QklCjYC6AoNM"
      },
      "source": [
        "import os\r\n",
        "import os\r\n",
        "import random\r\n",
        "import re\r\n",
        "from PIL import Image\r\n",
        "\r\n",
        "DATA_PATH = '/content/drive/MyDrive/SegPC-2021/train/'\r\n",
        "FRAME_PATH = \"/content/drive/MyDrive/SegPC-2021/train/x/\"\r\n",
        "MASK_PATH = \"/content/drive/MyDrive/SegPC-2021/train/y/\""
      ],
      "execution_count": 7,
      "outputs": []
    },
    {
      "cell_type": "code",
      "metadata": {
        "colab": {
          "base_uri": "https://localhost:8080/"
        },
        "id": "HDoi9Iv9dOu2",
        "outputId": "242fb0b0-3e85-41c9-af93-2bec625a8c22"
      },
      "source": [
        "os.listdir(\"/content/drive/MyDrive\")"
      ],
      "execution_count": null,
      "outputs": [
        {
          "output_type": "execute_result",
          "data": {
            "text/plain": [
              "['covid_image_data', 'Colab Notebooks', 'SegPC-2021']"
            ]
          },
          "metadata": {
            "tags": []
          },
          "execution_count": 29
        }
      ]
    },
    {
      "cell_type": "code",
      "metadata": {
        "colab": {
          "base_uri": "https://localhost:8080/"
        },
        "id": "VC6-Dog2eqKW",
        "outputId": "aeec2261-ad99-4df6-e56d-d8ccbae7a949"
      },
      "source": [
        "len(os.listdir(\"/content/drive/MyDrive/SegPC-2021/train/x\"))"
      ],
      "execution_count": null,
      "outputs": [
        {
          "output_type": "execute_result",
          "data": {
            "text/plain": [
              "297"
            ]
          },
          "metadata": {
            "tags": []
          },
          "execution_count": 31
        }
      ]
    },
    {
      "cell_type": "code",
      "metadata": {
        "id": "hZYH1k7nefLG"
      },
      "source": [
        "all_frames = os.listdir(FRAME_PATH)\n",
        "all_masks = os.listdir(MASK_PATH)"
      ],
      "execution_count": 8,
      "outputs": []
    },
    {
      "cell_type": "code",
      "metadata": {
        "id": "bZf2Fq91ehWo"
      },
      "source": [
        "def fin(masks,frame):\n",
        "  em = []\n",
        "  for f in masks:\n",
        "    f_1 = f[0:3]+\".bmp\"\n",
        "    if f_1 in frame:\n",
        "      em.append(f)\n",
        "  return em"
      ],
      "execution_count": 14,
      "outputs": []
    },
    {
      "cell_type": "code",
      "metadata": {
        "id": "yw99luEvfFU4"
      },
      "source": [
        "# Create folders to hold images and masks\r\n",
        "\r\n",
        "folders = ['train_frames', 'train_masks', 'val_frames', 'val_masks', 'test_frames', 'test_masks']\r\n",
        "\r\n",
        "\r\n",
        "for folder in folders:\r\n",
        "  os.makedirs(DATA_PATH + folder)\r\n",
        "  \r\n",
        "\r\n",
        "\r\n",
        "# Get all frames and masks, sort them, shuffle them to generate data sets.\r\n",
        "\r\n",
        "all_frames = os.listdir(FRAME_PATH)\r\n",
        "all_masks = os.listdir(MASK_PATH)\r\n",
        "\r\n",
        "\r\n",
        "all_frames.sort(key=lambda var:[int(x) if x.isdigit() else x \r\n",
        "                                for x in re.findall(r'[0-9]+', var)])\r\n",
        "all_masks.sort(key=lambda var:[int(x) if x.isdigit() else x \r\n",
        "                               for x in re.findall(r'[0-9]+', var)])\r\n",
        "\r\n",
        "\r\n",
        "random.seed(230)\r\n",
        "random.shuffle(all_frames)\r\n",
        "\r\n",
        "\r\n",
        "# Generate train, val, and test sets for frames\r\n",
        "\r\n",
        "train_split = int(0.7*len(all_frames))\r\n",
        "val_split = int(0.9 * len(all_frames))\r\n",
        "\r\n",
        "train_frames = all_frames[:train_split]\r\n",
        "val_frames = all_frames[train_split:val_split]\r\n",
        "test_frames = all_frames[val_split:]\r\n",
        "\r\n",
        "\r\n",
        "# Generate corresponding mask lists for masks\r\n",
        "\r\n",
        "train_masks = fin(all_masks,train_frames)\r\n",
        "val_masks = fin(all_masks,val_frames)\r\n",
        "test_masks = fin(all_masks,test_frames)"
      ],
      "execution_count": 51,
      "outputs": []
    },
    {
      "cell_type": "code",
      "metadata": {
        "id": "g3p5ECBsgKe-"
      },
      "source": [
        "frame_folders = [(train_frames, 'train_frames'), (val_frames, 'val_frames'), \n",
        "                 (test_frames, 'test_frames')]\n",
        "\n",
        "mask_folders = [(train_masks, 'train_masks'), (val_masks, 'val_masks'), \n",
        "                (test_masks, 'test_masks')]"
      ],
      "execution_count": 52,
      "outputs": []
    },
    {
      "cell_type": "code",
      "metadata": {
        "colab": {
          "base_uri": "https://localhost:8080/",
          "height": 35
        },
        "id": "y2W0B2gtgLvO",
        "outputId": "b9dda6ec-9597-4d04-cfbb-22b976cd9985"
      },
      "source": [
        "name[1][0:4]"
      ],
      "execution_count": 31,
      "outputs": [
        {
          "output_type": "execute_result",
          "data": {
            "application/vnd.google.colaboratory.intrinsic+json": {
              "type": "string"
            },
            "text/plain": [
              "'test'"
            ]
          },
          "metadata": {
            "tags": []
          },
          "execution_count": 31
        }
      ]
    },
    {
      "cell_type": "code",
      "metadata": {
        "id": "PW_PlV8BwE60"
      },
      "source": [
        "#Add train, val, test frames and masks to relevant folders\n",
        "\n",
        "\n",
        "def add_frames(dir_name, image):\n",
        "  \n",
        "  img = Image.open(FRAME_PATH+image)\n",
        "  img.save(DATA_PATH+'/{}'.format(dir_name)+'/'+image)\n",
        "  \n",
        "  \n",
        "  \n",
        "def add_masks(dir_name, image):\n",
        "  \n",
        "  img = Image.open(MASK_PATH+image)\n",
        "  img.save(DATA_PATH+'/{}'.format(dir_name)+'/'+image)\n",
        "\n",
        "\n",
        "\n",
        "# Add frames\n",
        "\n",
        "for folder in frame_folders:\n",
        "  \n",
        "  array = folder[0]\n",
        "  name = [folder[1]] * len(array)\n",
        "\n",
        "  list(map(add_frames, name, array))\n",
        "         \n",
        "    \n",
        "# Add masks\n",
        "\n",
        "for folder in mask_folders:\n",
        "  \n",
        "  array = folder[0]\n",
        "  name = [folder[1]] * len(array)\n",
        "  \n",
        "  list(map(add_masks, name, array))"
      ],
      "execution_count": 53,
      "outputs": []
    },
    {
      "cell_type": "code",
      "metadata": {
        "id": "YWEJdRTBs83Y"
      },
      "source": [
        "from keras.preprocessing.image import ImageDataGenerator\r\n",
        "\r\n",
        "train_datagen = ImageDataGenerator(\r\n",
        "        rescale=1./255,\r\n",
        "        channel_shift_range=150.0,\r\n",
        "        vertical_flip=True,\r\n",
        "        horizontal_flip=True)\r\n",
        "        \r\n",
        "val_datagen = ImageDataGenerator(rescale=1./255)"
      ],
      "execution_count": 54,
      "outputs": []
    },
    {
      "cell_type": "code",
      "metadata": {
        "colab": {
          "base_uri": "https://localhost:8080/"
        },
        "id": "DCAOzhOytQAV",
        "outputId": "c52a89cc-ad8e-42e1-cce1-fc9b3fbeff2e"
      },
      "source": [
        "train_image_generator = train_datagen.flow_from_directory(\r\n",
        "    directory='/content/drive/MyDrive/SegPC-2021/train/train_frames/',\r\n",
        "    batch_size = 16)\r\n",
        "\r\n",
        "train_mask_generator = train_datagen.flow_from_directory(\r\n",
        "    directory='/content/drive/MyDrive/SegPC-2021/train/train_masks/',\r\n",
        "    batch_size = 16)\r\n",
        "\r\n",
        "val_image_generator = val_datagen.flow_from_directory(\r\n",
        "    directory='/content/drive/MyDrive/SegPC-2021/train/val_frames/',\r\n",
        "    batch_size = 16)\r\n",
        "\r\n",
        "\r\n",
        "val_mask_generator = val_datagen.flow_from_directory(\r\n",
        "    directory='/content/drive/MyDrive/SegPC-2021/train/val_masks/',\r\n",
        "    batch_size = 16)\r\n",
        "\r\n",
        "\r\n",
        "\r\n",
        "train_generator = zip(train_image_generator, train_mask_generator)\r\n",
        "val_generator = zip(val_image_generator, val_mask_generator)"
      ],
      "execution_count": 55,
      "outputs": [
        {
          "output_type": "stream",
          "text": [
            "Found 208 images belonging to 1 classes.\n",
            "Found 118 images belonging to 1 classes.\n",
            "Found 60 images belonging to 1 classes.\n",
            "Found 68 images belonging to 1 classes.\n"
          ],
          "name": "stdout"
        }
      ]
    },
    {
      "cell_type": "code",
      "metadata": {
        "id": "rNqtbyMU4M35",
        "colab": {
          "base_uri": "https://localhost:8080/"
        },
        "outputId": "a532097e-9b0e-4986-fdb0-e6ce6e75434e"
      },
      "source": [
        "from keras.callbacks import ModelCheckpoint\n",
        "from keras.callbacks import CSVLogger\n",
        "from keras.callbacks import EarlyStopping\n",
        "from keras.optimizers import Adam\n",
        "\n",
        "import model\n",
        "\n",
        "NO_OF_TRAINING_IMAGES = len(os.listdir('/your_data/train_frames/train/'))\n",
        "NO_OF_VAL_IMAGES = len(os.listdir('/your_data/val_frames/val/'))\n",
        "\n",
        "NO_OF_EPOCHS = 'ANYTHING FROM 30-100 FOR SMALL-MEDIUM SIZED DATASETS IS OKAY'\n",
        "\n",
        "BATCH_SIZE = 'BATCH SIZE PREVIOUSLY INITIALISED'\n",
        "\n",
        "weights_path = 'path/where/resulting_weights_will_be_saved'\n",
        "\n",
        "m = model.FCN_Vgg16_32s()\n",
        "opt = Adam(lr=1E-5, beta_1=0.9, beta_2=0.999, epsilon=1e-08)\n",
        "\n",
        "m.compile(loss='The loss to optimise [eg: dice_loss],\n",
        "              optimizer=opt,\n",
        "              metrics='YOUR_METRIC [could be 'accuracy' or mIOU, dice_coeff etc]')\n",
        "\n",
        "checkpoint = ModelCheckpoint(weights_path, monitor='METRIC_TO_MONITOR', \n",
        "                             verbose=1, save_best_only=True, mode='max')\n",
        "\n",
        "csv_logger = CSVLogger('./log.out', append=True, separator=';')\n",
        "\n",
        "earlystopping = EarlyStopping(monitor = 'METRIC_TO_MONITOR', verbose = 1,\n",
        "                              min_delta = 0.01, patience = 3, mode = 'max')\n",
        "\n",
        "callbacks_list = [checkpoint, csv_logger, earlystopping]\n",
        "\n",
        "results = m.fit_generator(train_gen, epochs=NO_OF_EPOCHS, \n",
        "                          steps_per_epoch = (NO_OF_TRAINING_IMAGES//BATCH_SIZE),\n",
        "                          validation_data=val_gen, \n",
        "                          validation_steps=(NO_OF_VAL_IMAGES//BATCH_SIZE), \n",
        "                          callbacks=callbacks_list)\n",
        "m.save('Model.h5')"
      ],
      "execution_count": null,
      "outputs": [
        {
          "output_type": "execute_result",
          "data": {
            "text/plain": [
              "<zip at 0x7fb7bdaa0948>"
            ]
          },
          "metadata": {
            "tags": []
          },
          "execution_count": 7
        }
      ]
    }
  ]
}